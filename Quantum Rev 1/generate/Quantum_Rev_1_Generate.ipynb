{
 "cells": [
  {
   "cell_type": "code",
   "execution_count": 56,
   "metadata": {},
   "outputs": [],
   "source": [
    "def chunks(line, n):\n",
    "    return [line[i:i+n] for i in range(0, len(line), n)]"
   ]
  },
  {
   "cell_type": "code",
   "execution_count": 22,
   "metadata": {},
   "outputs": [],
   "source": [
    "p,q = [150339929236283287305170353869803839, 1180748192566805948936020568724009577]"
   ]
  },
  {
   "cell_type": "code",
   "execution_count": 2,
   "metadata": {},
   "outputs": [
    {
     "name": "stdout",
     "output_type": "stream",
     "text": [
      "[+] N = 183265954861256291\n",
      "[+] log2(N) = 57.3467164158\n"
     ]
    }
   ],
   "source": [
    "nbits = 30\n",
    "p = random_prime(2^nbits)\n",
    "q = random_prime(2^nbits)\n",
    "N = p * q\n",
    "\n",
    "print(\"[+] N = {}\".format(N))\n",
    "print(\"[+] log2(N) = {}\".format(float(log(N)/log(2))))"
   ]
  },
  {
   "cell_type": "code",
   "execution_count": 9,
   "metadata": {},
   "outputs": [
    {
     "name": "stdout",
     "output_type": "stream",
     "text": [
      "[+] m = 10574583385366445384215485116315024456105611980393471318951401322109\n",
      "[+] log2(m) = 222.649783183\n"
     ]
    }
   ],
   "source": [
    "msg = \"dice{wh0_Pu75_crypT0_1n_r3v}\"\n",
    "m = Integer(msg.encode(\"hex\"), 16)\n",
    "\n",
    "print(\"[+] m = {}\".format(m))\n",
    "print(\"[+] log2(m) = {}\".format(float(log(m)/log(2))))"
   ]
  },
  {
   "cell_type": "code",
   "execution_count": 25,
   "metadata": {},
   "outputs": [
    {
     "name": "stdout",
     "output_type": "stream",
     "text": [
      "100732622826926692403579618733673960187850197949440831153169139931402371\n"
     ]
    }
   ],
   "source": [
    "e = 0x10001\n",
    "phi = lcm(p-1, q-1)\n",
    "d = Integer(inverse_mod(e, phi))\n",
    "\n",
    "ctxt = Integer(mod(m,N)^e)\n",
    "\n",
    "print(ctxt)"
   ]
  },
  {
   "cell_type": "code",
   "execution_count": 26,
   "metadata": {},
   "outputs": [
    {
     "name": "stdout",
     "output_type": "stream",
     "text": [
      "dice{wh0_Pu75_crypT0_1n_r3v}\n"
     ]
    }
   ],
   "source": [
    "mtxt = hex(Integer(mod(ctxt,N)^d)).decode(\"hex\")\n",
    "print(mtxt)"
   ]
  },
  {
   "cell_type": "code",
   "execution_count": 60,
   "metadata": {},
   "outputs": [
    {
     "name": "stdout",
     "output_type": "stream",
     "text": [
      "remove the null bytes before submitting: d\u0000i\u0000c\u0000e\u0000{\u0000w\u0000h\u00000\u0000_\u0000P\u0000u\u00007\u00005\u0000_\u0000c\u0000r\u0000y\u0000p\u0000T\u00000\u0000_\u00001\u0000n\u0000_\u0000r\u00003\u0000v\u0000?\u0000}\n"
     ]
    }
   ],
   "source": [
    "print(''.join(chunks(msg, 7)))"
   ]
  },
  {
   "cell_type": "code",
   "execution_count": 4,
   "metadata": {},
   "outputs": [
    {
     "data": {
      "text/plain": [
       "74583193119493"
      ]
     },
     "execution_count": 4,
     "metadata": {},
     "output_type": "execute_result"
    }
   ],
   "source": [
    "randint(0, N//1024)"
   ]
  },
  {
   "cell_type": "code",
   "execution_count": 1,
   "metadata": {},
   "outputs": [],
   "source": [
    "N = 183265954861256291"
   ]
  },
  {
   "cell_type": "code",
   "execution_count": 7,
   "metadata": {},
   "outputs": [],
   "source": [
    "((p,_),(q,_)) = factor(N)"
   ]
  },
  {
   "cell_type": "code",
   "execution_count": 64,
   "metadata": {},
   "outputs": [],
   "source": [
    "phi = lcm(p-1, q-1)\n",
    "d = Integer(inverse_mod(e, phi))\n",
    "e = 0x10001"
   ]
  },
  {
   "cell_type": "code",
   "execution_count": 53,
   "metadata": {},
   "outputs": [
    {
     "name": "stdout",
     "output_type": "stream",
     "text": [
      "remove the null bytes before submitting: d\u0000i\u0000c\u0000e\u0000{\u0000w\u0000h\u00000\u0000_\u0000P\u0000u\u00007\u00005\u0000_\u0000c\u0000r\u0000y\u0000p\u0000T\u00000\u0000_\u00001\u0000n\u0000_\u0000r\u00003\u0000v\u0000?\u0000}\n"
     ]
    },
    {
     "data": {
      "text/plain": [
       "14.0000000000000"
      ]
     },
     "execution_count": 53,
     "metadata": {},
     "output_type": "execute_result"
    }
   ],
   "source": [
    "msg = r\"dice{wh0_Pu75_crypT0_1n_r3v?}\".replace('', '\\x00').strip('\\x00')\n",
    "msg = \"remove the null bytes before submitting: \" + msg\n",
    "print(msg)\n",
    "len(msg)/7."
   ]
  },
  {
   "cell_type": "code",
   "execution_count": 65,
   "metadata": {},
   "outputs": [
    {
     "name": "stdout",
     "output_type": "stream",
     "text": [
      "ciphertext_0 = 45749875208794574\n",
      "ciphertext_1 = 174236903665592715\n",
      "ciphertext_2 = 92986020244906386\n",
      "ciphertext_3 = 96036561989153081\n",
      "ciphertext_4 = 172801515479555174\n",
      "ciphertext_5 = 44641100244251515\n",
      "ciphertext_6 = 3734906486773735\n",
      "ciphertext_7 = 118982417340454121\n",
      "ciphertext_8 = 174116556965592444\n",
      "ciphertext_9 = 142609916776911323\n",
      "ciphertext_10 = 23526131344477686\n",
      "ciphertext_11 = 133653291044116991\n",
      "ciphertext_12 = 40709263355256998\n",
      "ciphertext_13 = 72092056193487302\n"
     ]
    }
   ],
   "source": [
    "data = \"e = {}\\nN = ???\\n\\n\".format(e)\n",
    "\n",
    "for i,m in enumerate(chunks(msg, 7)):\n",
    "    m = Integer(m.encode(\"hex\"), 16)\n",
    "    \n",
    "\n",
    "    ctxt = Integer(mod(m,N)^e)\n",
    "\n",
    "    s = \"ciphertext_{} = {}\".format(i, ctxt)\n",
    "    print(s)\n",
    "    \n",
    "    data += s + '\\n'"
   ]
  },
  {
   "cell_type": "code",
   "execution_count": 67,
   "metadata": {},
   "outputs": [
    {
     "name": "stdout",
     "output_type": "stream",
     "text": [
      "e = 65537\n",
      "N = ???\n",
      "\n",
      "ciphertext_0 = 45749875208794574\n",
      "ciphertext_1 = 174236903665592715\n",
      "ciphertext_2 = 92986020244906386\n",
      "ciphertext_3 = 96036561989153081\n",
      "ciphertext_4 = 172801515479555174\n",
      "ciphertext_5 = 44641100244251515\n",
      "ciphertext_6 = 3734906486773735\n",
      "ciphertext_7 = 118982417340454121\n",
      "ciphertext_8 = 174116556965592444\n",
      "ciphertext_9 = 142609916776911323\n",
      "ciphertext_10 = 23526131344477686\n",
      "ciphertext_11 = 133653291044116991\n",
      "ciphertext_12 = 40709263355256998\n",
      "ciphertext_13 = 72092056193487302\n",
      "\n"
     ]
    }
   ],
   "source": [
    "print(data)"
   ]
  },
  {
   "cell_type": "code",
   "execution_count": 69,
   "metadata": {},
   "outputs": [],
   "source": [
    "with open(\"../challenge/encrypted_message.rsa\", \"w\")  as f:\n",
    "    f.write(data)\n"
   ]
  },
  {
   "cell_type": "code",
   "execution_count": 12,
   "metadata": {},
   "outputs": [
    {
     "data": {
      "text/plain": [
       "28263373296334696"
      ]
     },
     "execution_count": 12,
     "metadata": {},
     "output_type": "execute_result"
    }
   ],
   "source": [
    "mod(ctxt,N)^d"
   ]
  },
  {
   "cell_type": "code",
   "execution_count": 23,
   "metadata": {},
   "outputs": [
    {
     "ename": "ValueError",
     "evalue": "n must have at most 4095 digits",
     "output_type": "error",
     "traceback": [
      "\u001b[0;31m---------------------------------------------------------------------------\u001b[0m",
      "\u001b[0;31mValueError\u001b[0m                                Traceback (most recent call last)",
      "\u001b[0;32m<ipython-input-23-14a8dce269b9>\u001b[0m in \u001b[0;36m<module>\u001b[0;34m()\u001b[0m\n\u001b[0;32m----> 1\u001b[0;31m \u001b[0mecm\u001b[0m\u001b[0;34m.\u001b[0m\u001b[0mfind_factor\u001b[0m\u001b[0;34m(\u001b[0m\u001b[0my\u001b[0m\u001b[0;34m)\u001b[0m\u001b[0;34m\u001b[0m\u001b[0m\n\u001b[0m",
      "\u001b[0;32m/opt/sagemath-8.4/local/lib/python2.7/site-packages/sage/interfaces/ecm.pyc\u001b[0m in \u001b[0;36mfind_factor\u001b[0;34m(self, n, factor_digits, B1, **kwds)\u001b[0m\n\u001b[1;32m    561\u001b[0m             \u001b[0mValueError\u001b[0m\u001b[0;34m:\u001b[0m \u001b[0mn\u001b[0m \u001b[0mmust\u001b[0m \u001b[0mhave\u001b[0m \u001b[0mat\u001b[0m \u001b[0mmost\u001b[0m \u001b[0;36m4095\u001b[0m \u001b[0mdigits\u001b[0m\u001b[0;34m\u001b[0m\u001b[0m\n\u001b[1;32m    562\u001b[0m         \"\"\"\n\u001b[0;32m--> 563\u001b[0;31m         \u001b[0mfactors\u001b[0m \u001b[0;34m=\u001b[0m \u001b[0mself\u001b[0m\u001b[0;34m.\u001b[0m\u001b[0m_find_factor\u001b[0m\u001b[0;34m(\u001b[0m\u001b[0mn\u001b[0m\u001b[0;34m,\u001b[0m \u001b[0mfactor_digits\u001b[0m\u001b[0;34m,\u001b[0m \u001b[0mB1\u001b[0m\u001b[0;34m,\u001b[0m \u001b[0;34m**\u001b[0m\u001b[0mkwds\u001b[0m\u001b[0;34m)\u001b[0m\u001b[0;34m\u001b[0m\u001b[0m\n\u001b[0m\u001b[1;32m    564\u001b[0m         \u001b[0;32mreturn\u001b[0m \u001b[0;34m[\u001b[0m\u001b[0mfactor\u001b[0m\u001b[0;34m[\u001b[0m\u001b[0;36m0\u001b[0m\u001b[0;34m]\u001b[0m \u001b[0;32mfor\u001b[0m \u001b[0mfactor\u001b[0m \u001b[0;32min\u001b[0m \u001b[0mfactors\u001b[0m\u001b[0;34m]\u001b[0m\u001b[0;34m\u001b[0m\u001b[0m\n\u001b[1;32m    565\u001b[0m \u001b[0;34m\u001b[0m\u001b[0m\n",
      "\u001b[0;32m/opt/sagemath-8.4/local/lib/python2.7/site-packages/sage/interfaces/ecm.pyc\u001b[0m in \u001b[0;36m_find_factor\u001b[0;34m(self, n, factor_digits, B1, **kwds)\u001b[0m\n\u001b[1;32m    504\u001b[0m              (6366805760909027985741435139224233, True)]\n\u001b[1;32m    505\u001b[0m         \"\"\"\n\u001b[0;32m--> 506\u001b[0;31m         \u001b[0mn\u001b[0m \u001b[0;34m=\u001b[0m \u001b[0mself\u001b[0m\u001b[0;34m.\u001b[0m\u001b[0m_validate\u001b[0m\u001b[0;34m(\u001b[0m\u001b[0mn\u001b[0m\u001b[0;34m)\u001b[0m\u001b[0;34m\u001b[0m\u001b[0m\n\u001b[0m\u001b[1;32m    507\u001b[0m         \u001b[0mkwds\u001b[0m\u001b[0;34m.\u001b[0m\u001b[0msetdefault\u001b[0m\u001b[0;34m(\u001b[0m\u001b[0;34m'c'\u001b[0m\u001b[0;34m,\u001b[0m \u001b[0;36m1000000000\u001b[0m\u001b[0;34m)\u001b[0m\u001b[0;34m\u001b[0m\u001b[0m\n\u001b[1;32m    508\u001b[0m         \u001b[0mkwds\u001b[0m\u001b[0;34m.\u001b[0m\u001b[0msetdefault\u001b[0m\u001b[0;34m(\u001b[0m\u001b[0;34m'I'\u001b[0m\u001b[0;34m,\u001b[0m \u001b[0;36m1\u001b[0m\u001b[0;34m)\u001b[0m\u001b[0;34m\u001b[0m\u001b[0m\n",
      "\u001b[0;32m/opt/sagemath-8.4/local/lib/python2.7/site-packages/sage/interfaces/ecm.pyc\u001b[0m in \u001b[0;36m_validate\u001b[0;34m(self, n)\u001b[0m\n\u001b[1;32m    816\u001b[0m             \u001b[0;32mraise\u001b[0m \u001b[0mValueError\u001b[0m\u001b[0;34m(\u001b[0m\u001b[0;34m\"n must be positive\"\u001b[0m\u001b[0;34m)\u001b[0m\u001b[0;34m\u001b[0m\u001b[0m\n\u001b[1;32m    817\u001b[0m         \u001b[0;32mif\u001b[0m \u001b[0mn\u001b[0m\u001b[0;34m.\u001b[0m\u001b[0mndigits\u001b[0m\u001b[0;34m(\u001b[0m\u001b[0;34m)\u001b[0m \u001b[0;34m>\u001b[0m \u001b[0;36m4095\u001b[0m\u001b[0;34m:\u001b[0m\u001b[0;34m\u001b[0m\u001b[0m\n\u001b[0;32m--> 818\u001b[0;31m             \u001b[0;32mraise\u001b[0m \u001b[0mValueError\u001b[0m\u001b[0;34m(\u001b[0m\u001b[0;34m\"n must have at most 4095 digits\"\u001b[0m\u001b[0;34m)\u001b[0m\u001b[0;34m\u001b[0m\u001b[0m\n\u001b[0m\u001b[1;32m    819\u001b[0m         \u001b[0;32mreturn\u001b[0m \u001b[0mn\u001b[0m\u001b[0;34m\u001b[0m\u001b[0m\n\u001b[1;32m    820\u001b[0m \u001b[0;34m\u001b[0m\u001b[0m\n",
      "\u001b[0;31mValueError\u001b[0m: n must have at most 4095 digits"
     ]
    }
   ],
   "source": [
    "ecm.find_factor(y)"
   ]
  },
  {
   "cell_type": "code",
   "execution_count": 17,
   "metadata": {},
   "outputs": [],
   "source": [
    "y = m^e - ctxt"
   ]
  },
  {
   "cell_type": "code",
   "execution_count": 21,
   "metadata": {},
   "outputs": [],
   "source": [
    "from sage.rings.factorint import factor_trial_division\n",
    "q = factor_trial_division(y, 10000)\n",
    "q?"
   ]
  }
 ],
 "metadata": {
  "kernelspec": {
   "display_name": "SageMath 8.4",
   "language": "",
   "name": "sagemath"
  },
  "language_info": {
   "codemirror_mode": {
    "name": "ipython",
    "version": 2
   },
   "file_extension": ".py",
   "mimetype": "text/x-python",
   "name": "python",
   "nbconvert_exporter": "python",
   "pygments_lexer": "ipython2",
   "version": "2.7.15"
  }
 },
 "nbformat": 4,
 "nbformat_minor": 2
}
