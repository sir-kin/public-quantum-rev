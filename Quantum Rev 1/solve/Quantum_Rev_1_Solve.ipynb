{
 "cells": [
  {
   "cell_type": "code",
   "execution_count": 1,
   "metadata": {},
   "outputs": [],
   "source": [
    "N = 177513599716362998539142178307007771385442861398395017247577542547366103"
   ]
  },
  {
   "cell_type": "code",
   "execution_count": 2,
   "metadata": {},
   "outputs": [
    {
     "name": "stdout",
     "output_type": "stream",
     "text": [
      "CPU times: user 47 ms, sys: 16 ms, total: 63 ms\n",
      "Wall time: 51.1 s\n",
      "[150339929236283287305170353869803839, 1180748192566805948936020568724009577]\n"
     ]
    }
   ],
   "source": [
    "%time factors,_ = qsieve(N)\n",
    "print(factors)\n",
    "p,q = factors"
   ]
  },
  {
   "cell_type": "code",
   "execution_count": 3,
   "metadata": {},
   "outputs": [],
   "source": [
    "# standard RSA exponent\n",
    "e = 0x10001\n",
    "phi = lcm(p-1, q-1)\n",
    "d = Integer(inverse_mod(e, phi))"
   ]
  },
  {
   "cell_type": "code",
   "execution_count": 4,
   "metadata": {},
   "outputs": [
    {
     "name": "stdout",
     "output_type": "stream",
     "text": [
      "dice{wh0_Pu75_crypT0_1n_r3v}\n"
     ]
    }
   ],
   "source": [
    "with open(\"../challenge/encrypted_message.txt\", \"r\")  as f:\n",
    "    ctxt = int(f.read())\n",
    "\n",
    "m = Integer(mod(ctxt,N)^d)\n",
    "mtxt = hex(m).decode(\"hex\")\n",
    "print(mtxt)"
   ]
  },
  {
   "cell_type": "code",
   "execution_count": null,
   "metadata": {},
   "outputs": [],
   "source": []
  }
 ],
 "metadata": {
  "kernelspec": {
   "display_name": "SageMath 8.4",
   "language": "",
   "name": "sagemath"
  },
  "language_info": {
   "codemirror_mode": {
    "name": "ipython",
    "version": 2
   },
   "file_extension": ".py",
   "mimetype": "text/x-python",
   "name": "python",
   "nbconvert_exporter": "python",
   "pygments_lexer": "ipython2",
   "version": "2.7.15"
  }
 },
 "nbformat": 4,
 "nbformat_minor": 2
}
