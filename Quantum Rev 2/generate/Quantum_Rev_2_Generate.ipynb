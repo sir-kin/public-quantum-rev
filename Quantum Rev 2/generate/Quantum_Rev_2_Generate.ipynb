{
 "cells": [
  {
   "cell_type": "code",
   "execution_count": 10,
   "metadata": {},
   "outputs": [],
   "source": [
    "def chunks(line, n):\n",
    "    return [line[i:i+n] for i in range(0, len(line), n)]"
   ]
  },
  {
   "cell_type": "code",
   "execution_count": 3,
   "metadata": {},
   "outputs": [
    {
     "name": "stdout",
     "output_type": "stream",
     "text": [
      "[+] N = 1149785239057719001\n",
      "[+] log2(N) = 59.9960701226\n",
      "[+] a = 395318069365307\n"
     ]
    }
   ],
   "source": [
    "nbits = 31\n",
    "p = random_prime(2^nbits)\n",
    "q = random_prime(2^nbits)\n",
    "N = p * q\n",
    "\n",
    "print(\"[+] N = {}\\n[+] log2(N) = {}\".format(N, float(log(N)/log(2))))\n",
    "\n",
    "a = randint(2, N//1024)\n",
    "\n",
    "print(\"[+] a = {}\".format(a))"
   ]
  },
  {
   "cell_type": "code",
   "execution_count": 13,
   "metadata": {},
   "outputs": [
    {
     "name": "stdout",
     "output_type": "stream",
     "text": [
      "[100, 105, 99, 101, 123, 82, 83, 65, 95, 115, 101, 99, 117, 114, 101, 95, 102, 111, 114, 95, 83, 104, 111, 114, 125]\n"
     ]
    }
   ],
   "source": [
    "msg = \"dice{RSA_secure_for_Shor}\"\n",
    "print([ord(i) for i in msg])"
   ]
  },
  {
   "cell_type": "code",
   "execution_count": 42,
   "metadata": {},
   "outputs": [
    {
     "name": "stdout",
     "output_type": "stream",
     "text": [
      "flag = ''.join([chr(i) for i in [100,105,99,101,123,82,83,65,95,115,101,99,117,114,101,95,102,111,114,95,83,104,111,114,125]])\n"
     ]
    }
   ],
   "source": [
    "msg = \"flag = ''.join([chr(i) for i in [100, 105, 99, 101, 123, 82, 83, 65, 95, 115, 101, 99, 117, 114, 101, 95, 102, 111, 114, 95, 83, 104, 111, 114, 125]])\"\n",
    "msg = msg.replace(\", \", \",\")\n",
    "print(msg)"
   ]
  },
  {
   "cell_type": "code",
   "execution_count": 43,
   "metadata": {},
   "outputs": [
    {
     "data": {
      "text/plain": [
       "18.0000000000000"
      ]
     },
     "execution_count": 43,
     "metadata": {},
     "output_type": "execute_result"
    }
   ],
   "source": [
    "len(msg) / 7."
   ]
  },
  {
   "cell_type": "code",
   "execution_count": 45,
   "metadata": {},
   "outputs": [
    {
     "name": "stdout",
     "output_type": "stream",
     "text": [
      "dice{RSA_secure_for_Shor}\n"
     ]
    }
   ],
   "source": [
    "flag = ''.join([chr(i) for i in [100,105,99,101,123,82,83,65,95,115,101,99,117,114,101,95,102,111,114,95,83,104,111,114,125]])\n",
    "print(flag)"
   ]
  },
  {
   "cell_type": "code",
   "execution_count": 47,
   "metadata": {},
   "outputs": [],
   "source": [
    "e = 0x10001\n",
    "phi = lcm(p-1, q-1)\n",
    "d = Integer(inverse_mod(e, phi))\n",
    "\n"
   ]
  },
  {
   "cell_type": "code",
   "execution_count": 48,
   "metadata": {},
   "outputs": [
    {
     "name": "stdout",
     "output_type": "stream",
     "text": [
      "ciphertext_0 = 630739985092765888\n",
      "ciphertext_1 = 451537334074008087\n",
      "ciphertext_2 = 812262022692002523\n",
      "ciphertext_3 = 406863754676316755\n",
      "ciphertext_4 = 272957246833162198\n",
      "ciphertext_5 = 837206587612398866\n",
      "ciphertext_6 = 878206764376026653\n",
      "ciphertext_7 = 74850042067302209\n",
      "ciphertext_8 = 59941172768887381\n",
      "ciphertext_9 = 692983716161578660\n",
      "ciphertext_10 = 977024416743871440\n",
      "ciphertext_11 = 683876226070993692\n",
      "ciphertext_12 = 701015663373142030\n",
      "ciphertext_13 = 603050347939059586\n",
      "ciphertext_14 = 260768514508744742\n",
      "ciphertext_15 = 454028599464670705\n",
      "ciphertext_16 = 494565845408874731\n",
      "ciphertext_17 = 425724750896288294\n"
     ]
    }
   ],
   "source": [
    "data = \"e = {}\\nN = ???\\n\\n\".format(e)\n",
    "\n",
    "for i,m in enumerate(chunks(msg, 7)):\n",
    "    m = Integer(m.encode(\"hex\"), 16)\n",
    "    \n",
    "\n",
    "    ctxt = Integer(mod(m,N)^e)\n",
    "\n",
    "    s = \"ciphertext_{} = {}\".format(i, ctxt)\n",
    "    print(s)\n",
    "    \n",
    "    data += s + '\\n'"
   ]
  },
  {
   "cell_type": "code",
   "execution_count": 49,
   "metadata": {},
   "outputs": [
    {
     "name": "stdout",
     "output_type": "stream",
     "text": [
      "e = 65537\n",
      "N = ???\n",
      "\n",
      "ciphertext_0 = 630739985092765888\n",
      "ciphertext_1 = 451537334074008087\n",
      "ciphertext_2 = 812262022692002523\n",
      "ciphertext_3 = 406863754676316755\n",
      "ciphertext_4 = 272957246833162198\n",
      "ciphertext_5 = 837206587612398866\n",
      "ciphertext_6 = 878206764376026653\n",
      "ciphertext_7 = 74850042067302209\n",
      "ciphertext_8 = 59941172768887381\n",
      "ciphertext_9 = 692983716161578660\n",
      "ciphertext_10 = 977024416743871440\n",
      "ciphertext_11 = 683876226070993692\n",
      "ciphertext_12 = 701015663373142030\n",
      "ciphertext_13 = 603050347939059586\n",
      "ciphertext_14 = 260768514508744742\n",
      "ciphertext_15 = 454028599464670705\n",
      "ciphertext_16 = 494565845408874731\n",
      "ciphertext_17 = 425724750896288294\n",
      "\n"
     ]
    }
   ],
   "source": [
    "print(data)"
   ]
  },
  {
   "cell_type": "code",
   "execution_count": 50,
   "metadata": {},
   "outputs": [],
   "source": [
    "with open(\"../challenge/encrypted_message.rsa\", \"w\")  as f:\n",
    "    f.write(data)\n"
   ]
  },
  {
   "cell_type": "code",
   "execution_count": null,
   "metadata": {},
   "outputs": [],
   "source": []
  }
 ],
 "metadata": {
  "kernelspec": {
   "display_name": "SageMath 8.4",
   "language": "",
   "name": "sagemath"
  },
  "language_info": {
   "codemirror_mode": {
    "name": "ipython",
    "version": 2
   },
   "file_extension": ".py",
   "mimetype": "text/x-python",
   "name": "python",
   "nbconvert_exporter": "python",
   "pygments_lexer": "ipython2",
   "version": "2.7.15"
  }
 },
 "nbformat": 4,
 "nbformat_minor": 2
}
