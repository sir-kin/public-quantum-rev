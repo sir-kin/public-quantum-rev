{
 "cells": [
  {
   "cell_type": "code",
   "execution_count": 8,
   "metadata": {},
   "outputs": [],
   "source": [
    "N = 1149785239057719001"
   ]
  },
  {
   "cell_type": "code",
   "execution_count": 25,
   "metadata": {},
   "outputs": [
    {
     "name": "stdout",
     "output_type": "stream",
     "text": [
      "CPU times: user 0 ns, sys: 0 ns, total: 0 ns\n",
      "Wall time: 389 µs\n",
      "(876168911, 1312287191)\n"
     ]
    }
   ],
   "source": [
    "%time (p,_),(q,_) = factor(N)\n",
    "print(p, q)"
   ]
  },
  {
   "cell_type": "code",
   "execution_count": 26,
   "metadata": {},
   "outputs": [],
   "source": [
    "# standard RSA exponent\n",
    "e = 0x10001\n",
    "phi = lcm(p-1, q-1)\n",
    "d = Integer(inverse_mod(e, phi))"
   ]
  },
  {
   "cell_type": "code",
   "execution_count": 27,
   "metadata": {
    "scrolled": true
   },
   "outputs": [
    {
     "name": "stdout",
     "output_type": "stream",
     "text": [
      "e = 65537\n",
      "N = ???\n",
      "\n",
      "ciphertext_0 = 630739985092765888\n",
      "ciphertext_1 = 451537334074008087\n",
      "ciphertext_2 = 812262022692002523\n",
      "ciphertext_3 = 406863754676316755\n",
      "ciphertext_4 = 272957246833162198\n",
      "ciphertext_5 = 837206587612398866\n",
      "ciphertext_6 = 878206764376026653\n",
      "ciphertext_7 = 74850042067302209\n",
      "ciphertext_8 = 59941172768887381\n",
      "ciphertext_9 = 692983716161578660\n",
      "ciphertext_10 = 977024416743871440\n",
      "ciphertext_11 = 683876226070993692\n",
      "ciphertext_12 = 701015663373142030\n",
      "ciphertext_13 = 603050347939059586\n",
      "ciphertext_14 = 260768514508744742\n",
      "ciphertext_15 = 454028599464670705\n",
      "ciphertext_16 = 494565845408874731\n",
      "ciphertext_17 = 425724750896288294\n",
      "\n"
     ]
    }
   ],
   "source": [
    "with open(\"../challenge/encrypted_message.rsa\", \"r\")  as f:\n",
    "    data = f.read()\n",
    "\n",
    "print(data)"
   ]
  },
  {
   "cell_type": "code",
   "execution_count": 30,
   "metadata": {},
   "outputs": [
    {
     "name": "stdout",
     "output_type": "stream",
     "text": [
      "[630739985092765888, 451537334074008087, 812262022692002523, 406863754676316755, 272957246833162198, 837206587612398866, 878206764376026653, 74850042067302209, 59941172768887381, 692983716161578660, 977024416743871440, 683876226070993692, 701015663373142030, 603050347939059586, 260768514508744742, 454028599464670705, 494565845408874731, 425724750896288294]\n"
     ]
    }
   ],
   "source": [
    "ctxts = []\n",
    "for i in data.split('\\n'):\n",
    "    if i.startswith(\"ciphertext\"):\n",
    "        n = int(i.split(\" = \")[1]) \n",
    "        ctxts.append(n)\n",
    "\n",
    "print(ctxts)"
   ]
  },
  {
   "cell_type": "code",
   "execution_count": 31,
   "metadata": {},
   "outputs": [
    {
     "name": "stdout",
     "output_type": "stream",
     "text": [
      "flag = ''.join([chr(i) for i in [100,105,99,101,123,82,83,65,95,115,101,99,117,114,101,95,102,111,114,95,83,104,111,114,125]])\n"
     ]
    }
   ],
   "source": [
    "ptxts = [Integer(mod(c,N)^d) for c in ctxts]\n",
    "msgs = [hex(m).decode(\"hex\") for m in ptxts]\n",
    "print(''.join(msgs))"
   ]
  },
  {
   "cell_type": "code",
   "execution_count": 32,
   "metadata": {},
   "outputs": [
    {
     "name": "stdout",
     "output_type": "stream",
     "text": [
      "dice{RSA_secure_for_Shor}\n"
     ]
    }
   ],
   "source": [
    "print(''.join([chr(i) for i in [100,105,99,101,123,82,83,65,95,115,101,99,117,114,101,95,102,111,114,95,83,104,111,114,125]]))"
   ]
  },
  {
   "cell_type": "code",
   "execution_count": null,
   "metadata": {},
   "outputs": [],
   "source": []
  }
 ],
 "metadata": {
  "kernelspec": {
   "display_name": "SageMath 8.4",
   "language": "",
   "name": "sagemath"
  },
  "language_info": {
   "codemirror_mode": {
    "name": "ipython",
    "version": 2
   },
   "file_extension": ".py",
   "mimetype": "text/x-python",
   "name": "python",
   "nbconvert_exporter": "python",
   "pygments_lexer": "ipython2",
   "version": "2.7.15"
  }
 },
 "nbformat": 4,
 "nbformat_minor": 2
}
